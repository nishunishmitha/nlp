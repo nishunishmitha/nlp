{
 "cells": [
  {
   "cell_type": "markdown",
   "id": "282adddf",
   "metadata": {},
   "source": [
    "# matrix formulation"
   ]
  },
  {
   "cell_type": "code",
   "execution_count": null,
   "id": "fa18c4e0",
   "metadata": {},
   "outputs": [],
   "source": [
    "from sklearn.feature_extraction.text import CountVectorizer\n",
    "sents=['He is a smart boy.she is also smart',\n",
    "       'chirag is a smart person']"
   ]
  },
  {
   "cell_type": "code",
   "execution_count": 3,
   "id": "c7d9c77b",
   "metadata": {},
   "outputs": [
    {
     "name": "stdout",
     "output_type": "stream",
     "text": [
      "['also', 'boy', 'chirag', 'he', 'is', 'person', 'she', 'smart']\n",
      "[[1 1 0 1 2 0 1 2]\n",
      " [0 0 1 0 1 1 0 1]]\n"
     ]
    }
   ],
   "source": [
    "cv=CountVectorizer()\n",
    "x=cv.fit_transform(sents)\n",
    "x=x.toarray()\n",
    "vocabulary=sorted(cv.vocabulary_.keys())\n",
    "print(vocabulary)\n",
    "print(x)"
   ]
  },
  {
   "cell_type": "markdown",
   "id": "a454f8a1",
   "metadata": {},
   "source": [
    "# n-grams"
   ]
  },
  {
   "cell_type": "code",
   "execution_count": 6,
   "id": "329275a6",
   "metadata": {},
   "outputs": [
    {
     "name": "stdout",
     "output_type": "stream",
     "text": [
      "['also smart', 'boy she', 'chirag is', 'he is', 'is also', 'is smart', 'she is', 'smart boy', 'smart person']\n",
      "[[1 1 0 1 1 1 1 1 0]\n",
      " [0 0 1 0 0 1 0 0 1]]\n"
     ]
    }
   ],
   "source": [
    "cv=CountVectorizer(ngram_range=(2,2))\n",
    "x=cv.fit_transform(sents)\n",
    "x=x.toarray()\n",
    "vocabulary=sorted(cv.vocabulary_.keys())\n",
    "print(vocabulary)\n",
    "print(x)"
   ]
  },
  {
   "cell_type": "code",
   "execution_count": 7,
   "id": "e2ffaf05",
   "metadata": {},
   "outputs": [
    {
     "name": "stdout",
     "output_type": "stream",
     "text": [
      "['boy she is also', 'chirag is smart person', 'he is smart boy', 'is smart boy she', 'she is also smart', 'smart boy she is']\n",
      "[[1 0 1 1 1 1]\n",
      " [0 1 0 0 0 0]]\n"
     ]
    }
   ],
   "source": [
    "cv=CountVectorizer(ngram_range=(4,4))\n",
    "x=cv.fit_transform(sents)\n",
    "x=x.toarray()\n",
    "vocabulary=sorted(cv.vocabulary_.keys())\n",
    "print(vocabulary)\n",
    "print(x)"
   ]
  },
  {
   "cell_type": "code",
   "execution_count": null,
   "id": "e6ec7bb9",
   "metadata": {},
   "outputs": [],
   "source": []
  }
 ],
 "metadata": {
  "kernelspec": {
   "display_name": "Python 3 (ipykernel)",
   "language": "python",
   "name": "python3"
  },
  "language_info": {
   "codemirror_mode": {
    "name": "ipython",
    "version": 3
   },
   "file_extension": ".py",
   "mimetype": "text/x-python",
   "name": "python",
   "nbconvert_exporter": "python",
   "pygments_lexer": "ipython3",
   "version": "3.9.12"
  }
 },
 "nbformat": 4,
 "nbformat_minor": 5
}
