{
 "cells": [
  {
   "cell_type": "code",
   "execution_count": 1,
   "id": "b8fc6d37",
   "metadata": {},
   "outputs": [],
   "source": [
    "from sklearn.feature_extraction.text import CountVectorizer\n",
    "sents=['He is a smart boy.she is also smart',\n",
    "       'chirag is a smart person']"
   ]
  },
  {
   "cell_type": "code",
   "execution_count": 7,
   "id": "e2ffaf05",
   "metadata": {},
   "outputs": [
    {
     "name": "stdout",
     "output_type": "stream",
     "text": [
      "['boy she is also', 'chirag is smart person', 'he is smart boy', 'is smart boy she', 'she is also smart', 'smart boy she is']\n",
      "[[1 0 1 1 1 1]\n",
      " [0 1 0 0 0 0]]\n"
     ]
    }
   ],
   "source": [
    "cv=CountVectorizer(ngram_range=(4,4))\n",
    "x=cv.fit_transform(sents)\n",
    "x=x.toarray()\n",
    "vocabulary=sorted(cv.vocabulary_.keys())\n",
    "print(vocabulary)\n",
    "print(x)"
   ]
  },
  {
   "cell_type": "code",
   "execution_count": null,
   "id": "e6ec7bb9",
   "metadata": {},
   "outputs": [],
   "source": []
  }
 ],
 "metadata": {
  "kernelspec": {
   "display_name": "Python 3 (ipykernel)",
   "language": "python",
   "name": "python3"
  },
  "language_info": {
   "codemirror_mode": {
    "name": "ipython",
    "version": 3
   },
   "file_extension": ".py",
   "mimetype": "text/x-python",
   "name": "python",
   "nbconvert_exporter": "python",
   "pygments_lexer": "ipython3",
   "version": "3.9.12"
  }
 },
 "nbformat": 4,
 "nbformat_minor": 5
}
